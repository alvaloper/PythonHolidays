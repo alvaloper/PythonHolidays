{
  "nbformat": 4,
  "nbformat_minor": 0,
  "metadata": {
    "colab": {
      "name": "feriados.ipynb",
      "provenance": [],
      "collapsed_sections": []
    },
    "kernelspec": {
      "name": "python3",
      "display_name": "Python 3"
    },
    "language_info": {
      "name": "python"
    }
  },
  "cells": [
    {
      "cell_type": "code",
      "source": [
        "pip install workalendar"
      ],
      "metadata": {
        "colab": {
          "base_uri": "https://localhost:8080/"
        },
        "id": "4BuO6agOTfgg",
        "outputId": "d8750821-17a6-4538-b7ea-65e012accf54"
      },
      "execution_count": 2,
      "outputs": [
        {
          "output_type": "stream",
          "name": "stdout",
          "text": [
            "Collecting workalendar\n",
            "  Downloading workalendar-16.3.0-py3-none-any.whl (208 kB)\n",
            "\u001b[K     |████████████████████████████████| 208 kB 5.1 MB/s \n",
            "\u001b[?25hCollecting pyluach\n",
            "  Downloading pyluach-1.4.1-py3-none-any.whl (18 kB)\n",
            "Requirement already satisfied: importlib-metadata in /usr/local/lib/python3.7/dist-packages (from workalendar) (4.11.3)\n",
            "Collecting lunardate\n",
            "  Downloading lunardate-0.2.0-py3-none-any.whl (5.6 kB)\n",
            "Requirement already satisfied: python-dateutil in /usr/local/lib/python3.7/dist-packages (from workalendar) (2.8.2)\n",
            "Requirement already satisfied: convertdate in /usr/local/lib/python3.7/dist-packages (from workalendar) (2.4.0)\n",
            "Collecting backports.zoneinfo\n",
            "  Downloading backports.zoneinfo-0.2.1-cp37-cp37m-manylinux1_x86_64.whl (70 kB)\n",
            "\u001b[K     |████████████████████████████████| 70 kB 8.4 MB/s \n",
            "\u001b[?25hRequirement already satisfied: pymeeus<=1,>=0.3.13 in /usr/local/lib/python3.7/dist-packages (from convertdate->workalendar) (0.5.11)\n",
            "Requirement already satisfied: typing-extensions>=3.6.4 in /usr/local/lib/python3.7/dist-packages (from importlib-metadata->workalendar) (4.1.1)\n",
            "Requirement already satisfied: zipp>=0.5 in /usr/local/lib/python3.7/dist-packages (from importlib-metadata->workalendar) (3.8.0)\n",
            "Requirement already satisfied: six>=1.5 in /usr/local/lib/python3.7/dist-packages (from python-dateutil->workalendar) (1.15.0)\n",
            "Installing collected packages: pyluach, lunardate, backports.zoneinfo, workalendar\n",
            "Successfully installed backports.zoneinfo-0.2.1 lunardate-0.2.0 pyluach-1.4.1 workalendar-16.3.0\n"
          ]
        }
      ]
    },
    {
      "cell_type": "code",
      "execution_count": 46,
      "metadata": {
        "colab": {
          "base_uri": "https://localhost:8080/"
        },
        "id": "iopnYep5RPb_",
        "outputId": "b66282d0-dbb6-41e2-bb25-a37eebe63e04"
      },
      "outputs": [
        {
          "output_type": "stream",
          "name": "stdout",
          "text": [
            "Result\n",
            "\n",
            "            days\n",
            "date           \n",
            "Monday       10\n",
            "Sunday        5\n",
            "Thursday      2\n",
            "Friday        1\n",
            "Saturday      1\n",
            "Wednesday     1\n"
          ]
        }
      ],
      "source": [
        "import pandas as pd\n",
        "from workalendar.america import Colombia\n",
        "calculate1 = Colombia()\n",
        "hol=calculate1.holidays(2022)\n",
        "\n",
        "v1=pd.DataFrame(hol,columns=['date','days'])\n",
        "v1['date']=pd.to_datetime(v1['date'])\n",
        "v1['date']=v1['date'].dt.day_name()\n",
        "v1=v1.groupby('date').count().sort_values('days',ascending = False)\n",
        "print('Result')\n",
        "print('\\n',v1)"
      ]
    },
    {
      "cell_type": "markdown",
      "source": [
        "Python program to calculate the days of the year with the most holidays\n",
        "\n",
        "You must first install workalendar:\n",
        "\n",
        "pip install workalendar\n",
        "\n",
        "Then write and edit the following code with your preferences:\n",
        "\n",
        "--------\n",
        "\n",
        "import pandas as pd\n",
        "from workalendar.america import Colombia\n",
        "calculate1 = Colombia()\n",
        "hol=calculate1.holidays(2022)\n",
        "\n",
        "v1=pd.DataFrame(hol,columns=['date','days'])\n",
        "v1['date']=pd.to_datetime(v1['date'])\n",
        "v1['date']=v1['date'].dt.day_name()\n",
        "v1=v1.groupby('date').count().sort_values('days',ascending = False)\n",
        "print('Result')\n",
        "print('\\n',v1)\n",
        "\n",
        "--------\n",
        "\n",
        "Enjoy it!"
      ],
      "metadata": {
        "id": "UFL_BdwEjW1t"
      }
    }
  ]
}